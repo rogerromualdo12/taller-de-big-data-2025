{
 "cells": [
  {
   "cell_type": "markdown",
   "metadata": {
    "application/vnd.databricks.v1+cell": {
     "cellMetadata": {},
     "inputWidgets": {},
     "nuid": "e5d11463-2d2e-4daf-8650-c5175c87405d",
     "showTitle": false,
     "tableResultSettingsMap": {},
     "title": ""
    }
   },
   "source": [
    "## Instalar las librerías necesarias"
   ]
  },
  {
   "cell_type": "code",
   "execution_count": 0,
   "metadata": {
    "application/vnd.databricks.v1+cell": {
     "cellMetadata": {
      "byteLimit": 2048000,
      "rowLimit": 10000
     },
     "inputWidgets": {},
     "nuid": "4e15afa9-4531-4e00-a0f1-a37333153f36",
     "showTitle": false,
     "tableResultSettingsMap": {},
     "title": ""
    }
   },
   "outputs": [],
   "source": [
    "%pip install requests"
   ]
  },
  {
   "cell_type": "markdown",
   "metadata": {
    "application/vnd.databricks.v1+cell": {
     "cellMetadata": {},
     "inputWidgets": {},
     "nuid": "3a267b6a-5859-455d-9904-18dc988bc570",
     "showTitle": false,
     "tableResultSettingsMap": {},
     "title": ""
    }
   },
   "source": [
    "## Reiniciar el kernel"
   ]
  },
  {
   "cell_type": "code",
   "execution_count": 0,
   "metadata": {
    "application/vnd.databricks.v1+cell": {
     "cellMetadata": {
      "byteLimit": 2048000,
      "rowLimit": 10000
     },
     "inputWidgets": {},
     "nuid": "56f4fbda-36da-4c35-8670-be45c671349d",
     "showTitle": false,
     "tableResultSettingsMap": {},
     "title": ""
    }
   },
   "outputs": [],
   "source": [
    "dbutils.library.restartPython()"
   ]
  },
  {
   "cell_type": "markdown",
   "metadata": {
    "application/vnd.databricks.v1+cell": {
     "cellMetadata": {},
     "inputWidgets": {},
     "nuid": "8a324399-8f7c-46d7-9210-086d8305a798",
     "showTitle": false,
     "tableResultSettingsMap": {},
     "title": ""
    }
   },
   "source": [
    "## Importar las librerias necesarias"
   ]
  },
  {
   "cell_type": "code",
   "execution_count": 0,
   "metadata": {
    "application/vnd.databricks.v1+cell": {
     "cellMetadata": {
      "byteLimit": 2048000,
      "rowLimit": 10000
     },
     "inputWidgets": {},
     "nuid": "dbc64da1-23d4-4bdd-8868-7218fbf550fb",
     "showTitle": false,
     "tableResultSettingsMap": {},
     "title": ""
    }
   },
   "outputs": [],
   "source": [
    "# Python\n",
    "import requests\n",
    "import json\n",
    "import pandas as pd\n",
    "import time\n",
    "\n",
    "# PySpark\n",
    "from pyspark.sql import SparkSession\n",
    "from pyspark.sql.types import StructType, StructField, StringType, FloatType"
   ]
  },
  {
   "cell_type": "markdown",
   "metadata": {
    "application/vnd.databricks.v1+cell": {
     "cellMetadata": {},
     "inputWidgets": {},
     "nuid": "3da74ab4-4019-4795-9ff9-16facca983e3",
     "showTitle": false,
     "tableResultSettingsMap": {},
     "title": ""
    }
   },
   "source": [
    "## 1.Configurar CoinGecko API\n",
    "\n",
    "La API de CoinGecko no requiere autenticación, lo que la hace fácil de usar.\n",
    "\n",
    "Usaremos el siguiente endpoint para obtener los precios actuales de criptomonedas. Endpoint:\n",
    "https://api.coingecko.com/api/v3/simple/price"
   ]
  },
  {
   "cell_type": "markdown",
   "metadata": {
    "application/vnd.databricks.v1+cell": {
     "cellMetadata": {},
     "inputWidgets": {},
     "nuid": "293cafb6-aabc-44b2-a165-f9f7267fae94",
     "showTitle": false,
     "tableResultSettingsMap": {},
     "title": ""
    }
   },
   "source": [
    "## 2. Consumir los datos desde la API\n",
    "\n",
    "Creamos una función para obtener los precios actuales(USD) de las criptomonedas como Bitcoin, ethereum, etc"
   ]
  },
  {
   "cell_type": "code",
   "execution_count": 0,
   "metadata": {
    "application/vnd.databricks.v1+cell": {
     "cellMetadata": {
      "byteLimit": 2048000,
      "rowLimit": 10000
     },
     "inputWidgets": {},
     "nuid": "e63225c8-f418-42c4-b639-8bf29aa7b4d7",
     "showTitle": false,
     "tableResultSettingsMap": {},
     "title": ""
    }
   },
   "outputs": [],
   "source": [
    "def fetch_crypto_prices(crypto_ids, vs_currency=\"usd\"):\n",
    "  url = \"https://api.coingecko.com/api/v3/simple/price\"\n",
    "  params = {\n",
    "      \"ids\": \",\".join(crypto_ids),\n",
    "      \"vs_currencies\": vs_currency\n",
    "  }\n",
    "  response = requests.get(url, params=params)\n",
    "\n",
    "  # Manejo de errores\n",
    "  if response.status_code != 200:\n",
    "      raise Exception(f\"Error en la API: {response.status_code}, {response.text}\")\n",
    "  return response.json()"
   ]
  },
  {
   "cell_type": "code",
   "execution_count": 0,
   "metadata": {
    "application/vnd.databricks.v1+cell": {
     "cellMetadata": {
      "byteLimit": 2048000,
      "rowLimit": 10000
     },
     "inputWidgets": {},
     "nuid": "93f9885d-3e46-434e-bd62-b22d0b54292c",
     "showTitle": false,
     "tableResultSettingsMap": {},
     "title": ""
    }
   },
   "outputs": [],
   "source": [
    "crypto_ids = [\"bitcoin\", \"ethereum\", \"dogecoin\", \"cardano\", \"solana\"]\n",
    "prices = fetch_crypto_prices(crypto_ids)\n",
    "print(prices)"
   ]
  },
  {
   "cell_type": "markdown",
   "metadata": {
    "application/vnd.databricks.v1+cell": {
     "cellMetadata": {},
     "inputWidgets": {},
     "nuid": "997f8497-3a83-4baa-91d5-7c8a0ea908a9",
     "showTitle": false,
     "tableResultSettingsMap": {},
     "title": ""
    }
   },
   "source": [
    "## 3. Transformar los datos en un DataFrame\n",
    "\n",
    "Convertimos los datsos JSON en un PySpark DataFrame para procesamiento adicional"
   ]
  },
  {
   "cell_type": "code",
   "execution_count": 0,
   "metadata": {
    "application/vnd.databricks.v1+cell": {
     "cellMetadata": {
      "byteLimit": 2048000,
      "rowLimit": 10000
     },
     "inputWidgets": {},
     "nuid": "478c26a9-da40-42fb-add0-a30778e067e6",
     "showTitle": false,
     "tableResultSettingsMap": {},
     "title": ""
    }
   },
   "outputs": [],
   "source": [
    "# Función para crear un DatFrame con los datos de los precios\n",
    "def create_dataframe(prices):\n",
    "    # Transformar datos JSON en una lista de filas\n",
    "    rows = [\n",
    "        {\"crypto\": key, \"price_usd\": value[\"usd\"]}\n",
    "        for key, value in prices.items()\n",
    "    ]\n",
    "\n",
    "    # Crear un DataFrame de pandas\n",
    "    pandas_df = pd.DataFrame(rows)\n",
    "\n",
    "    # Convertir a PySpark DataFrame\n",
    "    return spark.createDataFrame(pandas_df) "
   ]
  },
  {
   "cell_type": "code",
   "execution_count": 0,
   "metadata": {
    "application/vnd.databricks.v1+cell": {
     "cellMetadata": {
      "byteLimit": 2048000,
      "rowLimit": 10000
     },
     "inputWidgets": {},
     "nuid": "5e8f950f-4981-439a-a2a3-6a1f6357166f",
     "showTitle": false,
     "tableResultSettingsMap": {},
     "title": ""
    }
   },
   "outputs": [],
   "source": [
    "# Crear el DataFrame en Spark\n",
    "spark_df = create_dataframe(prices)\n",
    "spark_df.show()"
   ]
  },
  {
   "cell_type": "code",
   "execution_count": 0,
   "metadata": {
    "application/vnd.databricks.v1+cell": {
     "cellMetadata": {
      "byteLimit": 2048000,
      "rowLimit": 10000
     },
     "collapsed": true,
     "inputWidgets": {},
     "nuid": "46a213f2-9a86-4921-81fe-dc63e1cf94c1",
     "showTitle": false,
     "tableResultSettingsMap": {},
     "title": ""
    }
   },
   "outputs": [],
   "source": [
    "display(spark_df)"
   ]
  },
  {
   "cell_type": "markdown",
   "metadata": {
    "application/vnd.databricks.v1+cell": {
     "cellMetadata": {},
     "inputWidgets": {},
     "nuid": "b2e7c2cf-0431-4d80-bfff-42b39e5b41e7",
     "showTitle": false,
     "tableResultSettingsMap": {},
     "title": ""
    }
   },
   "source": [
    "## 4. Silver Layer (Guardar datos en Databricks)\n",
    "\n",
    "Los datos pueden ser guardados como Delta Lake o CSV para su análisis posterior"
   ]
  },
  {
   "cell_type": "code",
   "execution_count": 0,
   "metadata": {
    "application/vnd.databricks.v1+cell": {
     "cellMetadata": {
      "byteLimit": 2048000,
      "rowLimit": 10000
     },
     "inputWidgets": {},
     "nuid": "990b182b-1453-4cf9-9404-22d6e5dd8a46",
     "showTitle": false,
     "tableResultSettingsMap": {},
     "title": ""
    }
   },
   "outputs": [],
   "source": [
    "# Guardar en formato Delta\n",
    "output_path = \"/tmp/crypto_prices_delta\"\n",
    "spark_df.write.format(\"delta\").mode(\"overwrite\").save(output_path)\n",
    "\n",
    "# Confirmar guardado\n",
    "print(f\"Datos guardados en: {output_path}\")"
   ]
  },
  {
   "cell_type": "markdown",
   "metadata": {
    "application/vnd.databricks.v1+cell": {
     "cellMetadata": {},
     "inputWidgets": {},
     "nuid": "8d1ca082-d41c-4500-8730-669a32e8f6cc",
     "showTitle": false,
     "tableResultSettingsMap": {},
     "title": ""
    }
   },
   "source": [
    "## 5. Gold Layer\n",
    "\n",
    "Usaremos Databricks SQL y gráficos para analizar los datos de manera visual"
   ]
  },
  {
   "cell_type": "code",
   "execution_count": 0,
   "metadata": {
    "application/vnd.databricks.v1+cell": {
     "cellMetadata": {
      "byteLimit": 2048000,
      "implicitDf": true,
      "rowLimit": 10000
     },
     "inputWidgets": {},
     "nuid": "c91c5b64-d862-4ec0-ae8c-8891e7eeccc7",
     "showTitle": false,
     "tableResultSettingsMap": {},
     "title": ""
    }
   },
   "outputs": [],
   "source": [
    "%sql\n",
    "CREATE TABLE crypto_prices\n",
    "USING DELTA\n",
    "LOCATION '/tmp/crypto_prices_delta'\n",
    ";"
   ]
  },
  {
   "cell_type": "code",
   "execution_count": 0,
   "metadata": {
    "application/vnd.databricks.v1+cell": {
     "cellMetadata": {
      "byteLimit": 2048000,
      "implicitDf": true,
      "rowLimit": 10000
     },
     "collapsed": true,
     "inputWidgets": {},
     "nuid": "210100f7-f0ba-4f04-8c1a-e6fc21809744",
     "showTitle": false,
     "tableResultSettingsMap": {},
     "title": ""
    }
   },
   "outputs": [],
   "source": [
    "%sql\n",
    "SELECT * FROM crypto_prices\n",
    "WHERE crypto = \"bitcoin\"\n",
    ";"
   ]
  },
  {
   "cell_type": "markdown",
   "metadata": {
    "application/vnd.databricks.v1+cell": {
     "cellMetadata": {},
     "inputWidgets": {},
     "nuid": "de05a2ba-3ab6-47e0-9471-bbc29103bf68",
     "showTitle": false,
     "tableResultSettingsMap": {},
     "title": ""
    }
   },
   "source": [
    "## 6. Agregar datos en tiempo real\n",
    "\n",
    "Simular un flujo de data en tiempo real"
   ]
  },
  {
   "cell_type": "code",
   "execution_count": 0,
   "metadata": {
    "application/vnd.databricks.v1+cell": {
     "cellMetadata": {
      "byteLimit": 2048000,
      "rowLimit": 10000
     },
     "inputWidgets": {},
     "nuid": "c47aeb8e-9f8f-4a05-b7f6-13891b2ebd4a",
     "showTitle": false,
     "tableResultSettingsMap": {},
     "title": ""
    }
   },
   "outputs": [],
   "source": [
    "for _ in range(10):\n",
    "    prices = fetch_crypto_prices(crypto_ids)\n",
    "    spark_df = create_dataframe(prices)\n",
    "    spark_df_trans = spark_df\n",
    "    spark_df_trans.show()\n",
    "\n",
    "    # Guardar en formato Delta\n",
    "    spark_df_trans.write.format(\"delta\").mode(\"append\").save(output_path)\n",
    "\n",
    "    time.sleep(60) #C"
   ]
  },
  {
   "cell_type": "code",
   "execution_count": 0,
   "metadata": {
    "application/vnd.databricks.v1+cell": {
     "cellMetadata": {
      "byteLimit": 2048000,
      "rowLimit": 10000
     },
     "inputWidgets": {},
     "nuid": "ff83caa4-2d5d-454f-97d5-2f9adac5e1c4",
     "showTitle": false,
     "tableResultSettingsMap": {},
     "title": ""
    }
   },
   "outputs": [],
   "source": [
    "display(spark_df)"
   ]
  }
 ],
 "metadata": {
  "application/vnd.databricks.v1+notebook": {
   "computePreferences": null,
   "dashboards": [],
   "environmentMetadata": {
    "base_environment": "",
    "client": "1"
   },
   "language": "python",
   "notebookMetadata": {
    "mostRecentlyExecutedCommandWithImplicitDF": {
     "commandId": 4457331866629165,
     "dataframes": [
      "_sqldf"
     ]
    },
    "pythonIndentUnit": 4
   },
   "notebookName": "Lab N°1.1. POC Arquitectura Medallón",
   "widgets": {}
  },
  "language_info": {
   "name": "python"
  }
 },
 "nbformat": 4,
 "nbformat_minor": 0
}
