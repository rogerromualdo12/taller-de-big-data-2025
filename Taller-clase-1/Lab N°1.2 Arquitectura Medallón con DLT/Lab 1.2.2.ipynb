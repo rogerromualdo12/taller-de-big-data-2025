{
 "cells": [
  {
   "cell_type": "markdown",
   "metadata": {
    "application/vnd.databricks.v1+cell": {
     "cellMetadata": {},
     "inputWidgets": {},
     "nuid": "40afbee6-4f7c-4bb2-8c63-070542c868a7",
     "showTitle": false,
     "tableResultSettingsMap": {},
     "title": ""
    }
   },
   "source": [
    "## 1. Definición de las tablas DLT\n",
    "Siguiendo la arquitectura medallón"
   ]
  },
  {
   "cell_type": "code",
   "execution_count": 0,
   "metadata": {
    "application/vnd.databricks.v1+cell": {
     "cellMetadata": {
      "byteLimit": 2048000,
      "rowLimit": 10000
     },
     "inputWidgets": {},
     "nuid": "38c59cce-8b76-4596-85f4-71685ca6d9c0",
     "showTitle": false,
     "tableResultSettingsMap": {},
     "title": ""
    }
   },
   "outputs": [],
   "source": [
    "import dlt\n",
    "from pyspark.sql.functions import col, from_json\n",
    "from pyspark.sql.types import StructType, StringType, DoubleType, LongType\n",
    "\n",
    "# Esquema de los datos\n",
    "schema = StructType() \\\n",
    "    .add(\"timestamp\", LongType()) \\\n",
    "    .add(\"crypto\", StringType()) \\\n",
    "    .add(\"price_usd\", DoubleType())\n",
    "\n",
    "# Tabla bruta (raw)\n",
    "@dlt.table(\n",
    "    name=\"raw_crypto_prices\",\n",
    "    comment=\"Raw cryptocurrency price data ingested from JSON files.\",\n",
    ")\n",
    "def raw_crypto_prices():\n",
    "    return (\n",
    "        spark.readStream\n",
    "        .schema(schema)\n",
    "        .json(\"/tmp/crypto_dlt/\")\n",
    "    )\n",
    "\n",
    "# Tabla transformada (processed)\n",
    "@dlt.table(\n",
    "    name=\"processed_crypto_prices\",\n",
    "    comment=\"Cleaned and transformed cryptocurrency price data.\",\n",
    ")\n",
    "def processed_crypto_prices():\n",
    "    return (\n",
    "        dlt.read(\"raw_crypto_prices\")\n",
    "        .withColumn(\"event_time\", col(\"timestamp\").cast(\"timestamp\"))\n",
    "        .select(\"event_time\", \"crypto\", \"price_usd\")\n",
    "    )\n",
    "\n",
    "# Tabla agregada (aggregate)\n",
    "@dlt.table(\n",
    "    name=\"aggregated_crypto_prices\",\n",
    "    comment=\"Aggregated cryptocurrency prices over a 1-minute window.\",\n",
    ")\n",
    "def aggregated_crypto_prices():\n",
    "    return (\n",
    "        dlt.read(\"processed_crypto_prices\")\n",
    "        .groupBy(\n",
    "            col(\"crypto\"),\n",
    "            col(\"event_time\").alias(\"timestamp\")\n",
    "        )\n",
    "        .avg(\"price_usd\")\n",
    "        .withColumnRenamed(\"avg(price_usd)\", \"avg_price_usd\")\n",
    "    )\n"
   ]
  },
  {
   "cell_type": "markdown",
   "metadata": {
    "application/vnd.databricks.v1+cell": {
     "cellMetadata": {},
     "inputWidgets": {},
     "nuid": "83f7dbdc-bf22-465a-9832-43f22e2f3dae",
     "showTitle": false,
     "tableResultSettingsMap": {},
     "title": ""
    }
   },
   "source": [
    "## 2. Query a las tablas DLT"
   ]
  },
  {
   "cell_type": "markdown",
   "metadata": {
    "application/vnd.databricks.v1+cell": {
     "cellMetadata": {},
     "inputWidgets": {},
     "nuid": "43d54a81-22d5-4054-ac46-e236cc661f3c",
     "showTitle": false,
     "tableResultSettingsMap": {},
     "title": ""
    }
   },
   "source": [
    "### 2.1 Bronze Layer(raw data)"
   ]
  },
  {
   "cell_type": "code",
   "execution_count": 0,
   "metadata": {
    "application/vnd.databricks.v1+cell": {
     "cellMetadata": {
      "byteLimit": 2048000,
      "implicitDf": true,
      "rowLimit": 10000
     },
     "inputWidgets": {},
     "nuid": "7742d85b-28ce-44fd-910f-f7a531d74564",
     "showTitle": false,
     "tableResultSettingsMap": {},
     "title": ""
    }
   },
   "outputs": [],
   "source": [
    "%sql\n",
    "SELECT * FROM taller_de_big_data_uni.cryptos.processed_crypto_prices\n",
    "WHERE crypto = \"bitcoin\"\n",
    ";"
   ]
  },
  {
   "cell_type": "code",
   "execution_count": 0,
   "metadata": {
    "application/vnd.databricks.v1+cell": {
     "cellMetadata": {
      "byteLimit": 2048000,
      "implicitDf": true,
      "rowLimit": 10000
     },
     "inputWidgets": {},
     "nuid": "9f64a4cd-6f46-4361-a409-5c1715826576",
     "showTitle": false,
     "tableResultSettingsMap": {
      "0": {
       "filterBlob": "{\"filterGroups\":[{\"enabled\":true,\"filterGroupId\":\"fg_a88d70a5\",\"op\":\"OR\",\"filters\":[{\"filterId\":\"f_7e77764e\",\"enabled\":true,\"columnId\":\"crypto\",\"dataType\":\"string\",\"filterType\":\"oneof\",\"filterValues\":[\"bitcoin\"]}],\"local\":false,\"updatedAt\":1735875082090}],\"syncTimestamp\":1735875082090}",
       "tableResultIndex": 0
      }
     },
     "title": ""
    }
   },
   "outputs": [
    {
     "output_type": "display_data",
     "data": {
      "text/plain": [
       "Databricks visualization. Run in Databricks to view."
      ]
     },
     "metadata": {
      "application/vnd.databricks.v1.subcommand+json": {
       "baseErrorDetails": null,
       "bindings": {},
       "collapsed": false,
       "command": "%sql WITH q AS (SELECT * FROM `taller_de_big_data_uni`.`cryptos`.`aggregated_crypto_prices`\nWHERE crypto = \"bitcoin\") SELECT DATE_TRUNC('MINUTE',`timestamp`) `column_ce02cd2e60`,`crypto`,AVG(`avg_price_usd`) `column_ce02cd2e56`,PERCENTILE(`avg_price_usd`,0.5) `column_ce02cd2e62`,MAX(`avg_price_usd`) `column_ce02cd2e64` FROM q GROUP BY `column_ce02cd2e60`,`crypto`",
       "commandTitle": "Visualization 1",
       "commandType": "auto",
       "commandVersion": 0,
       "commentThread": [],
       "commentsVisible": false,
       "contentSha256Hex": null,
       "customPlotOptions": {
        "redashChart": [
         {
          "key": "type",
          "value": "CHART"
         },
         {
          "key": "options",
          "value": {
           "alignYAxesAtZero": true,
           "coefficient": 1,
           "columnConfigurationMap": {
            "series": {
             "column": "crypto",
             "id": "column_ce02cd2e55"
            },
            "x": {
             "column": "timestamp",
             "id": "column_ce02cd2e60",
             "transform": "MINUTE_LEVEL"
            },
            "y": [
             {
              "column": "avg_price_usd",
              "id": "column_ce02cd2e56",
              "transform": "AVG"
             },
             {
              "column": "avg_price_usd",
              "id": "column_ce02cd2e62",
              "transform": "MEDIAN"
             },
             {
              "column": "avg_price_usd",
              "id": "column_ce02cd2e64",
              "transform": "MAX"
             }
            ]
           },
           "dateTimeFormat": "DD/MM/YYYY HH:mm",
           "direction": {
            "type": "counterclockwise"
           },
           "error_y": {
            "type": "data",
            "visible": true
           },
           "globalSeriesType": "line",
           "isAggregationOn": true,
           "legend": {
            "traceorder": "normal"
           },
           "missingValuesAsZero": true,
           "numberFormat": "0,0.[00000]",
           "percentFormat": "0[.]00%",
           "series": {
            "error_y": {
             "type": "data",
             "visible": true
            },
            "stacking": null
           },
           "seriesOptions": {
            "column_ce02cd2e56": {
             "name": "avg_price_usd",
             "type": "line",
             "yAxis": 0
            },
            "column_ce02cd2e62": {
             "type": "line",
             "yAxis": 0
            },
            "column_ce02cd2e64": {
             "type": "line",
             "yAxis": 0
            }
           },
           "showDataLabels": false,
           "sizemode": "diameter",
           "sortX": true,
           "sortY": true,
           "swappedAxes": false,
           "textFormat": "",
           "useAggregationsUi": true,
           "valuesOptions": {},
           "version": 2,
           "xAxis": {
            "labels": {
             "enabled": true
            },
            "type": "-"
           },
           "yAxis": [
            {
             "type": "-"
            },
            {
             "opposite": true,
             "type": "-"
            }
           ]
          }
         }
        ]
       },
       "datasetPreviewNameToCmdIdMap": {},
       "diffDeletes": [],
       "diffInserts": [],
       "displayType": "redashChart",
       "error": null,
       "errorDetails": null,
       "errorSummary": null,
       "errorTraceType": null,
       "finishTime": 0,
       "globalVars": {},
       "guid": "",
       "height": "auto",
       "hideCommandCode": false,
       "hideCommandResult": false,
       "iPythonMetadata": null,
       "inputWidgets": {},
       "isLockedInExamMode": false,
       "latestUser": "a user",
       "latestUserId": null,
       "listResultMetadata": null,
       "metadata": {},
       "nuid": "03e41182-b4f8-4241-872f-b466c754c4fe",
       "origId": 0,
       "parentHierarchy": [],
       "pivotAggregation": null,
       "pivotColumns": null,
       "position": 3.75,
       "resultDbfsErrorMessage": null,
       "resultDbfsStatus": "INLINED_IN_TREE",
       "results": null,
       "showCommandTitle": false,
       "startTime": 0,
       "state": "input",
       "streamStates": {},
       "subcommandOptions": {
        "queryPlan": {
         "groups": [
          {
           "column": "column_ce02cd2e60",
           "type": "column"
          },
          {
           "column": "crypto",
           "type": "column"
          }
         ],
         "selects": [
          {
           "alias": "column_ce02cd2e60",
           "args": [
            {
             "column": "timestamp",
             "type": "column"
            },
            {
             "string": "MINUTE",
             "type": "string"
            }
           ],
           "function": "DATE_TRUNC",
           "type": "function"
          },
          {
           "column": "crypto",
           "type": "column"
          },
          {
           "alias": "column_ce02cd2e56",
           "args": [
            {
             "column": "avg_price_usd",
             "type": "column"
            }
           ],
           "function": "AVG",
           "type": "function"
          },
          {
           "alias": "column_ce02cd2e62",
           "args": [
            {
             "column": "avg_price_usd",
             "type": "column"
            },
            {
             "number": 0.5,
             "type": "number"
            }
           ],
           "function": "PERCENTILE",
           "type": "function"
          },
          {
           "alias": "column_ce02cd2e64",
           "args": [
            {
             "column": "avg_price_usd",
             "type": "column"
            }
           ],
           "function": "MAX",
           "type": "function"
          }
         ]
        }
       },
       "submitTime": 0,
       "subtype": "tableResultSubCmd.visualization",
       "tableResultIndex": 0,
       "tableResultSettingsMap": {},
       "useConsistentColors": false,
       "version": "CommandV1",
       "width": "auto",
       "workflows": null,
       "xColumns": null,
       "yColumns": null
      }
     },
     "output_type": "display_data"
    }
   ],
   "source": [
    "%sql\n",
    "SELECT * FROM `taller_de_big_data_uni`.`cryptos`.`aggregated_crypto_prices`\n",
    "WHERE crypto = \"bitcoin\"\n",
    ";"
   ]
  },
  {
   "cell_type": "code",
   "execution_count": 0,
   "metadata": {
    "application/vnd.databricks.v1+cell": {
     "cellMetadata": {},
     "inputWidgets": {},
     "nuid": "01a6924f-ba88-430a-87a6-ccce8cd06386",
     "showTitle": false,
     "tableResultSettingsMap": {},
     "title": ""
    }
   },
   "outputs": [],
   "source": [
    "Materialized View  has been created."
   ]
  }
 ],
 "metadata": {
  "application/vnd.databricks.v1+notebook": {
   "computePreferences": null,
   "dashboards": [],
   "environmentMetadata": {
    "base_environment": "",
    "client": "1"
   },
   "language": "python",
   "notebookMetadata": {
    "mostRecentlyExecutedCommandWithImplicitDF": {
     "commandId": 3978601585433682,
     "dataframes": [
      "_sqldf"
     ]
    },
    "pythonIndentUnit": 4
   },
   "notebookName": "Lab 1.2.2",
   "widgets": {}
  },
  "language_info": {
   "name": "python"
  }
 },
 "nbformat": 4,
 "nbformat_minor": 0
}
