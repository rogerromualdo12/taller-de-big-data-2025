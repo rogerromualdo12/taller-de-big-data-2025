{
 "cells": [
  {
   "cell_type": "markdown",
   "metadata": {
    "application/vnd.databricks.v1+cell": {
     "cellMetadata": {},
     "inputWidgets": {},
     "nuid": "8d727e81-d5ad-4e00-ae69-a80ace589588",
     "showTitle": false,
     "tableResultSettingsMap": {},
     "title": ""
    }
   },
   "source": [
    "## Instalar las librerias necesarias"
   ]
  },
  {
   "cell_type": "code",
   "execution_count": 0,
   "metadata": {
    "application/vnd.databricks.v1+cell": {
     "cellMetadata": {
      "byteLimit": 2048000,
      "rowLimit": 10000
     },
     "inputWidgets": {},
     "nuid": "f25cbfd8-a589-4cfc-826e-2506f4927b7c",
     "showTitle": false,
     "tableResultSettingsMap": {},
     "title": ""
    }
   },
   "outputs": [],
   "source": [
    "%pip install requests"
   ]
  },
  {
   "cell_type": "markdown",
   "metadata": {
    "application/vnd.databricks.v1+cell": {
     "cellMetadata": {},
     "inputWidgets": {},
     "nuid": "a3d78ab8-ad21-4287-8f61-5c7d20fecc8b",
     "showTitle": false,
     "tableResultSettingsMap": {},
     "title": ""
    }
   },
   "source": [
    "## Reiniciar el kernel\n",
    "El kernel es el motor de ejecución, dada la instalación de una nueva librería, es necesario reiniciarlo"
   ]
  },
  {
   "cell_type": "code",
   "execution_count": 0,
   "metadata": {
    "application/vnd.databricks.v1+cell": {
     "cellMetadata": {
      "byteLimit": 2048000,
      "rowLimit": 10000
     },
     "inputWidgets": {},
     "nuid": "104252bb-cf3e-4366-90bf-c2f19d14d167",
     "showTitle": false,
     "tableResultSettingsMap": {},
     "title": ""
    }
   },
   "outputs": [],
   "source": [
    "dbutils.library.restartPython()"
   ]
  },
  {
   "cell_type": "markdown",
   "metadata": {
    "application/vnd.databricks.v1+cell": {
     "cellMetadata": {},
     "inputWidgets": {},
     "nuid": "bca49e0f-7033-4071-9974-66583c09b576",
     "showTitle": false,
     "tableResultSettingsMap": {},
     "title": ""
    }
   },
   "source": [
    "## Importar las librerías necesarias"
   ]
  },
  {
   "cell_type": "code",
   "execution_count": 0,
   "metadata": {
    "application/vnd.databricks.v1+cell": {
     "cellMetadata": {
      "byteLimit": 2048000,
      "rowLimit": 10000
     },
     "inputWidgets": {},
     "nuid": "838d96a1-c8d8-473b-a013-ea3d82cb9cbe",
     "showTitle": false,
     "tableResultSettingsMap": {},
     "title": ""
    }
   },
   "outputs": [],
   "source": [
    "import requests\n",
    "import time\n",
    "import json\n",
    "import os\n",
    "\n",
    "from pyspark.sql import SparkSession\n",
    "from pyspark.sql.types import StructType, StructField, StringType, FloatType\n",
    "import pandas as pd"
   ]
  },
  {
   "cell_type": "markdown",
   "metadata": {
    "application/vnd.databricks.v1+cell": {
     "cellMetadata": {},
     "inputWidgets": {},
     "nuid": "3c261334-914d-458d-b414-607102745f42",
     "showTitle": false,
     "tableResultSettingsMap": {},
     "title": ""
    }
   },
   "source": [
    "## 1. Configurar CoinGecko API\n",
    "La API de CoinGecko no requiere autenticación, lo que la hace fácil de usar.\n",
    "\n",
    "Usaremos el siguiente endpoint para obtener los precios actuales de criptomonedas:\n",
    "Endpoint: https://api.coingecko.com/api/v3/simple/price."
   ]
  },
  {
   "cell_type": "markdown",
   "metadata": {
    "application/vnd.databricks.v1+cell": {
     "cellMetadata": {},
     "inputWidgets": {},
     "nuid": "eeef1706-7dad-406e-9ee4-066c57ab19e8",
     "showTitle": false,
     "tableResultSettingsMap": {},
     "title": ""
    }
   },
   "source": [
    "## 2. Consumir datos desde CoinGecko\n",
    "Creamos una función para obtener precios actuales(USD) de criptomonedas como Bitcoin, Ethereum, y más."
   ]
  },
  {
   "cell_type": "code",
   "execution_count": 0,
   "metadata": {
    "application/vnd.databricks.v1+cell": {
     "cellMetadata": {
      "byteLimit": 2048000,
      "rowLimit": 10000
     },
     "inputWidgets": {},
     "nuid": "92f5e629-6c70-4b9f-9243-21669ccc1301",
     "showTitle": false,
     "tableResultSettingsMap": {},
     "title": ""
    }
   },
   "outputs": [],
   "source": [
    "# Función para obtener datos de CoinGecko API\n",
    "def fetch_crypto_prices(crypto_ids, vs_currency=\"usd\"):\n",
    "    url = \"https://api.coingecko.com/api/v3/simple/price\"\n",
    "    params = {\n",
    "        \"ids\": \",\".join(crypto_ids),  # Lista de criptomonedas separada por comas\n",
    "        \"vs_currencies\": vs_currency\n",
    "    }\n",
    "    response = requests.get(url, params=params)\n",
    "    \n",
    "    # Manejar errores\n",
    "    if response.status_code != 200:\n",
    "        raise Exception(f\"Error en la API: {response.status_code}, {response.text}\")\n",
    "    \n",
    "    return response.json()\n",
    "\n",
    "# Probar la función\n",
    "crypto_ids = [\"bitcoin\", \"ethereum\", \"dogecoin\"]\n",
    "prices = fetch_crypto_prices(crypto_ids)\n",
    "print(prices)"
   ]
  },
  {
   "cell_type": "markdown",
   "metadata": {
    "application/vnd.databricks.v1+cell": {
     "cellMetadata": {},
     "inputWidgets": {},
     "nuid": "89691906-7589-4bcf-8bae-4b24d69bbea9",
     "showTitle": false,
     "tableResultSettingsMap": {},
     "title": ""
    }
   },
   "source": [
    "## 3. Transformar los datos en un DataFrame\n",
    "Convertimos los datos JSON en un PySpark DataFrame para procesamiento adicional."
   ]
  },
  {
   "cell_type": "code",
   "execution_count": 0,
   "metadata": {
    "application/vnd.databricks.v1+cell": {
     "cellMetadata": {
      "byteLimit": 2048000,
      "rowLimit": 10000
     },
     "inputWidgets": {},
     "nuid": "f1924dc1-dabd-4220-96b3-af92bf879fa8",
     "showTitle": false,
     "tableResultSettingsMap": {},
     "title": ""
    }
   },
   "outputs": [],
   "source": [
    "from pyspark.sql import SparkSession\n",
    "from pyspark.sql.types import StructType, StructField, StringType, FloatType\n",
    "import pandas as pd\n",
    "\n",
    "# Crear un DataFrame con los datos de precios\n",
    "def create_dataframe(prices):\n",
    "    # Transformar datos JSON a una lista de filas\n",
    "    rows = [\n",
    "        {\"crypto\": key, \"price_usd\": value[\"usd\"]}\n",
    "        for key, value in prices.items()\n",
    "    ]\n",
    "    \n",
    "    # Crear un DataFrame de pandas\n",
    "    pandas_df = pd.DataFrame(rows)\n",
    "    \n",
    "    # Convertir a PySpark DataFrame\n",
    "    return spark.createDataFrame(pandas_df)\n",
    "\n",
    "# Crear el DataFrame en Spark\n",
    "spark_df = create_dataframe(prices)\n",
    "spark_df.show()\n"
   ]
  },
  {
   "cell_type": "markdown",
   "metadata": {
    "application/vnd.databricks.v1+cell": {
     "cellMetadata": {},
     "inputWidgets": {},
     "nuid": "ecaeb522-1b11-4760-a00e-1a14ae56ea0e",
     "showTitle": false,
     "tableResultSettingsMap": {},
     "title": ""
    }
   },
   "source": [
    "## 4. Guardar datos en Databricks\n",
    "Los datos pueden ser guardados en formatos como Delta Lake o CSV para análisis posterior."
   ]
  },
  {
   "cell_type": "code",
   "execution_count": 0,
   "metadata": {
    "application/vnd.databricks.v1+cell": {
     "cellMetadata": {
      "byteLimit": 2048000,
      "rowLimit": 10000
     },
     "inputWidgets": {},
     "nuid": "7d2231b3-a3a7-4434-8c2d-0f0d3cbdb7bb",
     "showTitle": false,
     "tableResultSettingsMap": {},
     "title": ""
    }
   },
   "outputs": [],
   "source": [
    "# Guardar en formato Delta\n",
    "output_path = \"/tmp/crypto_prices_delta\"\n",
    "spark_df.write.format(\"delta\").mode(\"overwrite\").save(output_path)\n",
    "\n",
    "# Confirmar guardado\n",
    "print(f\"Datos guardados en: {output_path}\")"
   ]
  },
  {
   "cell_type": "markdown",
   "metadata": {
    "application/vnd.databricks.v1+cell": {
     "cellMetadata": {},
     "inputWidgets": {},
     "nuid": "a4126c4b-81f3-4e84-a32b-ae4ec0db3970",
     "showTitle": false,
     "tableResultSettingsMap": {},
     "title": ""
    }
   },
   "source": [
    "## 5. Visualizar los datos\n",
    "Usa Databricks SQL y gráficos para analizar los datos de manera visual."
   ]
  },
  {
   "cell_type": "code",
   "execution_count": 0,
   "metadata": {
    "application/vnd.databricks.v1+cell": {
     "cellMetadata": {
      "byteLimit": 2048000,
      "implicitDf": true,
      "rowLimit": 10000
     },
     "inputWidgets": {},
     "nuid": "c768d8bb-dd52-46c7-9001-30bed5c7ab7b",
     "showTitle": true,
     "tableResultSettingsMap": {},
     "title": "Crear una tabla usando Delta"
    }
   },
   "outputs": [],
   "source": [
    "%sql\n",
    "CREATE TABLE crypto_prices\n",
    "USING DELTA\n",
    "LOCATION '/tmp/crypto_prices_delta';"
   ]
  },
  {
   "cell_type": "code",
   "execution_count": 0,
   "metadata": {
    "application/vnd.databricks.v1+cell": {
     "cellMetadata": {
      "byteLimit": 2048000,
      "implicitDf": true,
      "rowLimit": 10000
     },
     "inputWidgets": {},
     "nuid": "2c772d6a-07c5-48ab-b3d6-81eb49e1001f",
     "showTitle": true,
     "tableResultSettingsMap": {},
     "title": "Consulta SQL"
    }
   },
   "outputs": [],
   "source": [
    "%sql\n",
    "SELECT * FROM crypto_prices;"
   ]
  },
  {
   "cell_type": "markdown",
   "metadata": {
    "application/vnd.databricks.v1+cell": {
     "cellMetadata": {},
     "inputWidgets": {},
     "nuid": "0a2db5da-64ac-40a6-af10-5ae5dfb68108",
     "showTitle": false,
     "tableResultSettingsMap": {},
     "title": ""
    }
   },
   "source": [
    "## 6. Agregar datos en tiempo real\n",
    "Simularemos un flujo de data en tiempo real"
   ]
  },
  {
   "cell_type": "code",
   "execution_count": 0,
   "metadata": {
    "application/vnd.databricks.v1+cell": {
     "cellMetadata": {
      "byteLimit": 2048000,
      "rowLimit": 10000
     },
     "inputWidgets": {},
     "nuid": "a1cd4204-b3ae-4ac0-bc98-0f8ef8452b30",
     "showTitle": false,
     "tableResultSettingsMap": {},
     "title": ""
    }
   },
   "outputs": [],
   "source": [
    "import time\n",
    "\n",
    "# Simular datos en tiempo real\n",
    "for _ in range(5):  # 5 iteraciones\n",
    "    prices = fetch_crypto_prices(crypto_ids)\n",
    "    spark_df = create_dataframe(prices)\n",
    "    spark_df.show()\n",
    "\n",
    "    # Guardar en formato Delta\n",
    "    spark_df.write.format(\"delta\").mode(\"append\").save(output_path)\n",
    "    \n",
    "    time.sleep(300)  # Esperar 5 minutos entre iteraciones"
   ]
  },
  {
   "cell_type": "markdown",
   "metadata": {
    "application/vnd.databricks.v1+cell": {
     "cellMetadata": {},
     "inputWidgets": {},
     "nuid": "e0baf90f-5d91-468a-ae88-ebbcabb2c064",
     "showTitle": false,
     "tableResultSettingsMap": {},
     "title": ""
    }
   },
   "source": [
    "## Stream de la primera función\n",
    "Obtendra el precio de la criptomoneda en la moneda solicitada cada 5 segundos"
   ]
  },
  {
   "cell_type": "code",
   "execution_count": 0,
   "metadata": {
    "application/vnd.databricks.v1+cell": {
     "cellMetadata": {
      "byteLimit": 2048000,
      "rowLimit": 10000
     },
     "inputWidgets": {},
     "nuid": "266246fc-bb41-41d8-b1a8-5e7fc9b58c10",
     "showTitle": false,
     "tableResultSettingsMap": {},
     "title": ""
    }
   },
   "outputs": [],
   "source": [
    "def stream_crypto_prices():\n",
    "    while True:\n",
    "        prices = fetch_crypto_prices()\n",
    "        timestamp = int(time.time())\n",
    "        for crypto, data in prices.items():\n",
    "            yield {\n",
    "                \"timestamp\": timestamp,\n",
    "                \"crypto\": crypto,\n",
    "                \"price_usd\": data[\"usd\"]\n",
    "            }\n",
    "        time.sleep(5)  # Esperar 5 segundos entre solicitudes"
   ]
  },
  {
   "cell_type": "code",
   "execution_count": 0,
   "metadata": {
    "application/vnd.databricks.v1+cell": {
     "cellMetadata": {
      "byteLimit": 2048000,
      "rowLimit": 10000
     },
     "inputWidgets": {},
     "nuid": "1d7abdca-40d8-49a1-9e23-e3a8e9969059",
     "showTitle": false,
     "tableResultSettingsMap": {},
     "title": ""
    }
   },
   "outputs": [],
   "source": [
    "output_dir = \"/FileStore/test_lab_1\"\n",
    "os.makedirs(output_dir, exist_ok=True)\n",
    "\n",
    "for record in stream_crypto_prices():\n",
    "    with open(f\"{output_dir}{record['timestamp']}.json\", \"w\") as f:\n",
    "        f.write(json.dumps(record))"
   ]
  },
  {
   "cell_type": "code",
   "execution_count": 0,
   "metadata": {
    "application/vnd.databricks.v1+cell": {
     "cellMetadata": {
      "byteLimit": 2048000,
      "rowLimit": 10000
     },
     "inputWidgets": {},
     "nuid": "5efe4684-fc03-4bed-864e-7e24a1c2d42a",
     "showTitle": false,
     "tableResultSettingsMap": {},
     "title": ""
    }
   },
   "outputs": [],
   "source": [
    "from pyspark.sql.types import StructType, StringType, DoubleType, LongType\n",
    "\n",
    "schema = StructType() \\\n",
    "    .add(\"timestamp\", LongType()) \\\n",
    "    .add(\"crypto\", StringType()) \\\n",
    "    .add(\"price_usd\", DoubleType())\n",
    "\n",
    "crypto_df = (\n",
    "    spark.readStream\n",
    "    .schema(schema)\n",
    "    .json(\"/FileStore/test_lab_1\")\n",
    ")"
   ]
  },
  {
   "cell_type": "code",
   "execution_count": 0,
   "metadata": {
    "application/vnd.databricks.v1+cell": {
     "cellMetadata": {
      "byteLimit": 2048000,
      "rowLimit": 10000
     },
     "inputWidgets": {},
     "nuid": "8f70deb9-a9a3-4f0d-b982-022cc49e884f",
     "showTitle": false,
     "tableResultSettingsMap": {},
     "title": ""
    }
   },
   "outputs": [],
   "source": [
    "dbutils.fs.ls(\"/dbfs/tmp/\")"
   ]
  },
  {
   "cell_type": "markdown",
   "metadata": {
    "application/vnd.databricks.v1+cell": {
     "cellMetadata": {},
     "inputWidgets": {},
     "nuid": "866d5477-7594-4b69-a612-7894a8f9d3fd",
     "showTitle": false,
     "tableResultSettingsMap": {},
     "title": ""
    }
   },
   "source": []
  }
 ],
 "metadata": {
  "application/vnd.databricks.v1+notebook": {
   "computePreferences": null,
   "dashboards": [],
   "environmentMetadata": {
    "base_environment": "",
    "client": "1"
   },
   "language": "python",
   "notebookMetadata": {
    "mostRecentlyExecutedCommandWithImplicitDF": {
     "commandId": 2831831564657107,
     "dataframes": [
      "_sqldf"
     ]
    },
    "pythonIndentUnit": 4
   },
   "notebookName": "Lab N°1 .1 POC Arquitectura Medallón",
   "widgets": {}
  },
  "language_info": {
   "name": "python"
  }
 },
 "nbformat": 4,
 "nbformat_minor": 0
}
